{
 "cells": [
  {
   "cell_type": "code",
   "execution_count": 4,
   "metadata": {
    "scrolled": true
   },
   "outputs": [
    {
     "name": "stdout",
     "output_type": "stream",
     "text": [
      "Requirement already satisfied: selenium in c:\\users\\lenovo\\.conda\\envs\\python\\lib\\site-packages (3.141.0)\n",
      "Requirement already satisfied: urllib3 in c:\\users\\lenovo\\.conda\\envs\\python\\lib\\site-packages (from selenium) (1.26.12)\n"
     ]
    },
    {
     "name": "stderr",
     "output_type": "stream",
     "text": [
      "WARNING: There was an error checking the latest version of pip.\n"
     ]
    },
    {
     "name": "stdout",
     "output_type": "stream",
     "text": [
      "Requirement already satisfied: bs4 in c:\\users\\lenovo\\.conda\\envs\\python\\lib\\site-packages (0.0.1)\n",
      "Requirement already satisfied: beautifulsoup4 in c:\\users\\lenovo\\.conda\\envs\\python\\lib\\site-packages (from bs4) (4.11.1)\n",
      "Requirement already satisfied: soupsieve>1.2 in c:\\users\\lenovo\\.conda\\envs\\python\\lib\\site-packages (from beautifulsoup4->bs4) (2.3.2.post1)\n"
     ]
    },
    {
     "name": "stderr",
     "output_type": "stream",
     "text": [
      "WARNING: There was an error checking the latest version of pip.\n"
     ]
    },
    {
     "name": "stdout",
     "output_type": "stream",
     "text": [
      "Requirement already satisfied: webdriver-manager in c:\\users\\lenovo\\.conda\\envs\\python\\lib\\site-packages (3.8.5)\n",
      "Requirement already satisfied: requests in c:\\users\\lenovo\\.conda\\envs\\python\\lib\\site-packages (from webdriver-manager) (2.28.1)\n",
      "Requirement already satisfied: packaging in c:\\users\\lenovo\\.conda\\envs\\python\\lib\\site-packages (from webdriver-manager) (20.9)\n",
      "Requirement already satisfied: tqdm in c:\\users\\lenovo\\.conda\\envs\\python\\lib\\site-packages (from webdriver-manager) (4.64.1)\n",
      "Requirement already satisfied: python-dotenv in c:\\users\\lenovo\\.conda\\envs\\python\\lib\\site-packages (from webdriver-manager) (0.21.0)\n",
      "Requirement already satisfied: pyparsing>=2.0.2 in c:\\users\\lenovo\\.conda\\envs\\python\\lib\\site-packages (from packaging->webdriver-manager) (2.4.7)\n",
      "Requirement already satisfied: urllib3<1.27,>=1.21.1 in c:\\users\\lenovo\\.conda\\envs\\python\\lib\\site-packages (from requests->webdriver-manager) (1.26.12)\n",
      "Requirement already satisfied: charset-normalizer<3,>=2 in c:\\users\\lenovo\\.conda\\envs\\python\\lib\\site-packages (from requests->webdriver-manager) (2.0.4)\n",
      "Requirement already satisfied: certifi>=2017.4.17 in c:\\users\\lenovo\\.conda\\envs\\python\\lib\\site-packages (from requests->webdriver-manager) (2022.9.24)\n",
      "Requirement already satisfied: idna<4,>=2.5 in c:\\users\\lenovo\\.conda\\envs\\python\\lib\\site-packages (from requests->webdriver-manager) (3.4)\n",
      "Requirement already satisfied: colorama in c:\\users\\lenovo\\.conda\\envs\\python\\lib\\site-packages (from tqdm->webdriver-manager) (0.4.4)\n"
     ]
    },
    {
     "name": "stderr",
     "output_type": "stream",
     "text": [
      "WARNING: There was an error checking the latest version of pip.\n"
     ]
    },
    {
     "name": "stdout",
     "output_type": "stream",
     "text": [
      "Collecting pandas\n",
      "  Downloading pandas-1.5.1-cp38-cp38-win_amd64.whl (11.0 MB)\n",
      "     ---------------------------------------- 11.0/11.0 MB 1.6 MB/s eta 0:00:00\n",
      "Collecting numpy>=1.20.3\n",
      "  Downloading numpy-1.23.5-cp38-cp38-win_amd64.whl (14.7 MB)\n",
      "     ---------------------------------------- 14.7/14.7 MB 1.6 MB/s eta 0:00:00\n",
      "Requirement already satisfied: python-dateutil>=2.8.1 in c:\\users\\lenovo\\.conda\\envs\\python\\lib\\site-packages (from pandas) (2.8.1)\n",
      "Requirement already satisfied: pytz>=2020.1 in c:\\users\\lenovo\\.conda\\envs\\python\\lib\\site-packages (from pandas) (2022.1)\n",
      "Requirement already satisfied: six>=1.5 in c:\\users\\lenovo\\.conda\\envs\\python\\lib\\site-packages (from python-dateutil>=2.8.1->pandas) (1.15.0)\n",
      "Installing collected packages: numpy, pandas"
     ]
    },
    {
     "name": "stderr",
     "output_type": "stream",
     "text": [
      "ERROR: pip's dependency resolver does not currently take into account all the packages that are installed. This behaviour is the source of the following dependency conflicts.\n",
      "pysd 3.0.1 requires chardet, which is not installed.\n",
      "pysd 3.0.1 requires openpyxl, which is not installed.\n",
      "pysd 3.0.1 requires parsimonious, which is not installed.\n",
      "pysd 3.0.1 requires progressbar2, which is not installed.\n",
      "pysd 3.0.1 requires regex, which is not installed.\n",
      "pysd 3.0.1 requires scipy, which is not installed.\n",
      "pysd 3.0.1 requires xarray, which is not installed.\n",
      "pysd 3.0.1 requires xlrd, which is not installed.\n",
      "WARNING: There was an error checking the latest version of pip.\n"
     ]
    },
    {
     "name": "stdout",
     "output_type": "stream",
     "text": [
      "\n",
      "Successfully installed numpy-1.23.5 pandas-1.5.1\n",
      "Requirement already satisfied: lxml in c:\\users\\lenovo\\.conda\\envs\\python\\lib\\site-packages (4.9.1)\n"
     ]
    },
    {
     "name": "stderr",
     "output_type": "stream",
     "text": [
      "WARNING: There was an error checking the latest version of pip.\n"
     ]
    }
   ],
   "source": [
    "!pip install selenium\n",
    "!pip install bs4\n",
    "!pip install webdriver-manager\n",
    "!pip install pandas\n",
    "!pip install lxml\n"
   ]
  },
  {
   "cell_type": "code",
   "execution_count": 84,
   "metadata": {},
   "outputs": [],
   "source": [
    "import time\n",
    "from selenium import webdriver\n",
    "from selenium.webdriver.common.keys import Keys\n",
    "from selenium.webdriver.common.by import By\n",
    "from bs4 import BeautifulSoup\n",
    "from webdriver_manager.chrome import ChromeDriverManager\n",
    "import pandas as pd\n",
    "\n",
    "def modifyPageWithDriver(page):\n",
    "    try:\n",
    "        driver = webdriver.Chrome(ChromeDriverManager().install())\n",
    "        driver.get(page)\n",
    "\n",
    "        # to click on input field\n",
    "        driver.find_element(By.XPATH,\"//*[@id='ctl00_CPH1_BtnTipoGobierno']\").click()\n",
    "\n",
    "        time.sleep(2)\n",
    "\n",
    "        # to click on the element(E: GOBIERNO NACIONAL) found\n",
    "        driver.find_element(By.XPATH,\"//*[@id='ctl00_CPH1_RptData_ctl01_TD0']\").click()\n",
    "\n",
    "        time.sleep(2)\n",
    "\n",
    "        # to click on input field\n",
    "        driver.find_element(By.XPATH,\"//*[@id='ctl00_CPH1_BtnSector']\").click()\n",
    "\n",
    "        time.sleep(2)\n",
    "\n",
    "        page_source = driver.page_source\n",
    "\n",
    "        driver.close()\n",
    "        return page_source\n",
    "    except:\n",
    "        raise Exception(\"Error with selenium\")\n"
   ]
  },
  {
   "cell_type": "code",
   "execution_count": 85,
   "metadata": {},
   "outputs": [],
   "source": [
    "def findUsefulDataSoup(page_source):\n",
    "    try:\n",
    "        soup = BeautifulSoup(page_source, 'lxml')\n",
    "        sectors_useful_data = []\n",
    "        table_data = soup.select(\".Data\")\n",
    "        sectors_selector = table_data[0].find_all('tr')\n",
    "        for sector in sectors_selector:\n",
    "            sector_columns = sector.find_all(\"td\")\n",
    "            sector_info = []\n",
    "            sector_info.append(sector_columns[1].string.strip())\n",
    "            sector_info.append(sector_columns[3].string.strip())\n",
    "            sector_info.append(sector_columns[7].string.strip())\n",
    "            sector_info.append(sector_columns[9].string.strip())\n",
    "            sectors_useful_data.append(sector_info)\n",
    "        return sectors_useful_data\n",
    "    except:\n",
    "        raise Exception(\"Error parsing html data\")"
   ]
  },
  {
   "cell_type": "code",
   "execution_count": 86,
   "metadata": {
    "scrolled": false
   },
   "outputs": [],
   "source": [
    "def creatingCSV(data):\n",
    "    try:\n",
    "      ## LEYENDO CSV EXISTENTE  \n",
    "      df = pd.read_csv('./consulta-amigable.csv', index_col=False, header=0, ) \n",
    "      print(\"Leyendo CSV EXISTENTE\")\n",
    "    except:\n",
    "      ## CREAR MEDIANTE DATAFRAME\n",
    "      df = pd.DataFrame({'Sector':[],\n",
    "                       'PIM':[],\n",
    "                       'Devengado':[],\n",
    "                        '% Avance':[]})\n",
    "      print(\"NO SE ENCONTRO CSV EXISTENTE\")\n",
    "    for index,sector in enumerate(sectors_useful_data):\n",
    "        df.loc[index,['Sector', 'PIM', 'Devengado', '% Avance']] = sector\n",
    "\n",
    "    df.to_csv('./consulta-amigable.csv',index=False)"
   ]
  },
  {
   "cell_type": "code",
   "execution_count": 87,
   "metadata": {},
   "outputs": [],
   "source": [
    "def scrapCA():\n",
    "    try:\n",
    "        url = \"https://apps5.mineco.gob.pe/transparencia/Navegador/Navegar_7.aspx\"\n",
    "        page_source =modifyPageWithDriver(url)\n",
    "        data = findUsefulDataSoup(page_source)\n",
    "        creatingCSV(data)\n",
    "        return 1\n",
    "    except:\n",
    "        return 0\n",
    "        "
   ]
  },
  {
   "cell_type": "code",
   "execution_count": 88,
   "metadata": {},
   "outputs": [
    {
     "name": "stdout",
     "output_type": "stream",
     "text": [
      "Leyendo CSV EXISTENTE\n",
      "1\n"
     ]
    }
   ],
   "source": [
    "print(scrapCA())"
   ]
  },
  {
   "cell_type": "code",
   "execution_count": null,
   "metadata": {},
   "outputs": [],
   "source": []
  }
 ],
 "metadata": {
  "kernelspec": {
   "display_name": "Python 3",
   "language": "python",
   "name": "python3"
  },
  "language_info": {
   "codemirror_mode": {
    "name": "ipython",
    "version": 3
   },
   "file_extension": ".py",
   "mimetype": "text/x-python",
   "name": "python",
   "nbconvert_exporter": "python",
   "pygments_lexer": "ipython3",
   "version": "3.8.8"
  }
 },
 "nbformat": 4,
 "nbformat_minor": 4
}
